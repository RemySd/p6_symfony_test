{
 "cells": [
  {
   "cell_type": "code",
   "execution_count": 3,
   "id": "535e526c",
   "metadata": {},
   "outputs": [
    {
     "data": {
      "text/plain": [
       "{'time': {'updated': 'Dec 29, 2022 21:00:00 UTC',\n",
       "  'updatedISO': '2022-12-29T21:00:00+00:00',\n",
       "  'updateduk': 'Dec 29, 2022 at 21:00 GMT'},\n",
       " 'disclaimer': 'This data was produced from the CoinDesk Bitcoin Price Index (USD). Non-USD currency data converted using hourly conversion rate from openexchangerates.org',\n",
       " 'chartName': 'Bitcoin',\n",
       " 'bpi': {'USD': {'code': 'USD',\n",
       "   'symbol': '&#36;',\n",
       "   'rate': '16,595.2065',\n",
       "   'description': 'United States Dollar',\n",
       "   'rate_float': 16595.2065},\n",
       "  'GBP': {'code': 'GBP',\n",
       "   'symbol': '&pound;',\n",
       "   'rate': '13,866.8218',\n",
       "   'description': 'British Pound Sterling',\n",
       "   'rate_float': 13866.8218},\n",
       "  'EUR': {'code': 'EUR',\n",
       "   'symbol': '&euro;',\n",
       "   'rate': '16,166.1540',\n",
       "   'description': 'Euro',\n",
       "   'rate_float': 16166.154}}}"
      ]
     },
     "execution_count": 3,
     "metadata": {},
     "output_type": "execute_result"
    }
   ],
   "source": [
    "import requests \n",
    "import json\n",
    "URL = \"https://api.coindesk.com/v1/bpi/currentprice.json\"\n",
    "\n",
    "response = requests.get(URL)\n",
    "data = json.loads(response.content.decode(\"utf-8\"))\n",
    "data"
   ]
  },
  {
   "cell_type": "code",
   "execution_count": 5,
   "id": "1f66cf66",
   "metadata": {},
   "outputs": [
    {
     "data": {
      "text/plain": [
       "16595.9313"
      ]
     },
     "execution_count": 5,
     "metadata": {},
     "output_type": "execute_result"
    }
   ],
   "source": [
    "import requests \n",
    "import json\n",
    "URL = \"https://api.coindesk.com/v1/bpi/currentprice.json\"\n",
    "\n",
    "response = requests.get(URL)\n",
    "data = json.loads(response.content.decode(\"utf-8\"))\n",
    "data\n",
    "bitcoin_price = data[\"bpi\"][\"USD\"][\"rate_float\"]\n",
    "bitcoin_price"
   ]
  },
  {
   "cell_type": "code",
   "execution_count": null,
   "id": "89d0db44",
   "metadata": {},
   "outputs": [],
   "source": []
  }
 ],
 "metadata": {
  "kernelspec": {
   "display_name": "Python 3 (ipykernel)",
   "language": "python",
   "name": "python3"
  },
  "language_info": {
   "codemirror_mode": {
    "name": "ipython",
    "version": 3
   },
   "file_extension": ".py",
   "mimetype": "text/x-python",
   "name": "python",
   "nbconvert_exporter": "python",
   "pygments_lexer": "ipython3",
   "version": "3.9.13"
  }
 },
 "nbformat": 4,
 "nbformat_minor": 5
}
